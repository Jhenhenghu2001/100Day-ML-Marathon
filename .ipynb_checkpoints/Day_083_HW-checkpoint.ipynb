{
 "cells": [
  {
   "cell_type": "markdown",
   "metadata": {},
   "source": [
    "# 範例重點\n",
    "學習如何在 keras 中加入 BatchNorm\n",
    "\n",
    "知道有無 BN 對訓練的影響\n",
    "\n",
    "比較 BN 在不同 batch size 下的效果"
   ]
  },
  {
   "cell_type": "code",
   "execution_count": 1,
   "metadata": {
    "ExecuteTime": {
     "end_time": "2019-07-27T02:48:54.226809Z",
     "start_time": "2019-07-27T02:48:48.955672Z"
    }
   },
   "outputs": [
    {
     "name": "stderr",
     "output_type": "stream",
     "text": [
      "Using TensorFlow backend.\n"
     ]
    }
   ],
   "source": [
    "import os\n",
    "import keras\n",
    "import itertools\n",
    "from keras.layers import BatchNormalization\n",
    "# Disable GPU\n",
    "# os.environ[\"CUDA_VISIBLE_DEVICES\"] = \"\""
   ]
  },
  {
   "cell_type": "code",
   "execution_count": 2,
   "metadata": {
    "ExecuteTime": {
     "end_time": "2019-07-27T02:49:01.234647Z",
     "start_time": "2019-07-27T02:49:00.934073Z"
    }
   },
   "outputs": [],
   "source": [
    "train, test = keras.datasets.cifar10.load_data()"
   ]
  },
  {
   "cell_type": "code",
   "execution_count": 3,
   "metadata": {
    "ExecuteTime": {
     "end_time": "2019-07-27T02:49:01.577827Z",
     "start_time": "2019-07-27T02:49:01.572371Z"
    }
   },
   "outputs": [],
   "source": [
    "## 資料前處理\n",
    "def preproc_x(x, flatten=True):\n",
    "    x = x / 255.\n",
    "    if flatten:\n",
    "        x = x.reshape((len(x), -1))\n",
    "    return x\n",
    "\n",
    "def preproc_y(y, num_classes=10):\n",
    "    if y.shape[-1] == 1:\n",
    "        y = keras.utils.to_categorical(y, num_classes)\n",
    "    return y    "
   ]
  },
  {
   "cell_type": "code",
   "execution_count": 4,
   "metadata": {
    "ExecuteTime": {
     "end_time": "2019-07-27T02:49:04.029063Z",
     "start_time": "2019-07-27T02:49:02.145789Z"
    }
   },
   "outputs": [],
   "source": [
    "x_train, y_train = train\n",
    "x_test, y_test = test\n",
    "\n",
    "# Preproc the inputs\n",
    "x_train = preproc_x(x_train)\n",
    "x_test = preproc_x(x_test)\n",
    "\n",
    "# Preprc the outputs\n",
    "y_train = preproc_y(y_train)\n",
    "y_test = preproc_y(y_test)"
   ]
  },
  {
   "cell_type": "markdown",
   "metadata": {},
   "source": [
    "# 範例"
   ]
  },
  {
   "cell_type": "code",
   "execution_count": 6,
   "metadata": {
    "ExecuteTime": {
     "end_time": "2019-07-27T02:26:37.807412Z",
     "start_time": "2019-07-27T02:26:37.795971Z"
    }
   },
   "outputs": [],
   "source": [
    "def build_mlp(input_shape, output_units=10, num_neurons=[512, 256, 128]):\n",
    "    input_layer = keras.layers.Input(input_shape)\n",
    "    \n",
    "    for i, n_units in enumerate(num_neurons):\n",
    "        if i == 0:\n",
    "            x = keras.layers.Dense(units=n_units,\n",
    "                                  activation='relu',\n",
    "                                  name='hidden_layer'+str(i+1))(input_layer)\n",
    "        \n",
    "        else:\n",
    "            x = keras.layers.Dense(units=n_units,\n",
    "                                  activation='relu',\n",
    "                                  name='hidden_layer'+str(i+1))(x)\n",
    "        # 在每層後加入BN層\n",
    "        x = BatchNormalization()(x)\n",
    "    out = keras.layers.Dense(units=output_units, activation='softmax', name='output')(x)\n",
    "    model = keras.models.Model(inputs=[input_layer], outputs=[out])\n",
    "    return model"
   ]
  },
  {
   "cell_type": "code",
   "execution_count": 7,
   "metadata": {
    "ExecuteTime": {
     "end_time": "2019-07-27T02:26:37.898421Z",
     "start_time": "2019-07-27T02:26:37.892868Z"
    }
   },
   "outputs": [],
   "source": [
    "## 超參數設定\n",
    "LEARNING_RATE = 1e-3\n",
    "EPOCHS = 50\n",
    "BATCH_SIZE = 1024\n",
    "MOMENTUM = 0.95"
   ]
  },
  {
   "cell_type": "code",
   "execution_count": 8,
   "metadata": {
    "ExecuteTime": {
     "end_time": "2019-07-27T02:29:42.576363Z",
     "start_time": "2019-07-27T02:26:37.998020Z"
    }
   },
   "outputs": [
    {
     "name": "stderr",
     "output_type": "stream",
     "text": [
      "WARNING: Logging before flag parsing goes to stderr.\n",
      "W0727 10:26:38.004043 11228 deprecation_wrapper.py:119] From C:\\ProgramData\\Anaconda3\\envs\\TensorFlow\\lib\\site-packages\\keras\\backend\\tensorflow_backend.py:74: The name tf.get_default_graph is deprecated. Please use tf.compat.v1.get_default_graph instead.\n",
      "\n",
      "W0727 10:26:38.033731 11228 deprecation_wrapper.py:119] From C:\\ProgramData\\Anaconda3\\envs\\TensorFlow\\lib\\site-packages\\keras\\backend\\tensorflow_backend.py:517: The name tf.placeholder is deprecated. Please use tf.compat.v1.placeholder instead.\n",
      "\n",
      "W0727 10:26:38.049108 11228 deprecation_wrapper.py:119] From C:\\ProgramData\\Anaconda3\\envs\\TensorFlow\\lib\\site-packages\\keras\\backend\\tensorflow_backend.py:4138: The name tf.random_uniform is deprecated. Please use tf.random.uniform instead.\n",
      "\n",
      "W0727 10:26:38.231636 11228 deprecation_wrapper.py:119] From C:\\ProgramData\\Anaconda3\\envs\\TensorFlow\\lib\\site-packages\\keras\\backend\\tensorflow_backend.py:133: The name tf.placeholder_with_default is deprecated. Please use tf.compat.v1.placeholder_with_default instead.\n",
      "\n",
      "W0727 10:26:38.656145 11228 deprecation_wrapper.py:119] From C:\\ProgramData\\Anaconda3\\envs\\TensorFlow\\lib\\site-packages\\keras\\optimizers.py:790: The name tf.train.Optimizer is deprecated. Please use tf.compat.v1.train.Optimizer instead.\n",
      "\n",
      "W0727 10:26:38.669008 11228 deprecation_wrapper.py:119] From C:\\ProgramData\\Anaconda3\\envs\\TensorFlow\\lib\\site-packages\\keras\\backend\\tensorflow_backend.py:3295: The name tf.log is deprecated. Please use tf.math.log instead.\n",
      "\n"
     ]
    },
    {
     "name": "stdout",
     "output_type": "stream",
     "text": [
      "_________________________________________________________________\n",
      "Layer (type)                 Output Shape              Param #   \n",
      "=================================================================\n",
      "input_1 (InputLayer)         (None, 3072)              0         \n",
      "_________________________________________________________________\n",
      "hidden_layer1 (Dense)        (None, 512)               1573376   \n",
      "_________________________________________________________________\n",
      "batch_normalization_1 (Batch (None, 512)               2048      \n",
      "_________________________________________________________________\n",
      "hidden_layer2 (Dense)        (None, 256)               131328    \n",
      "_________________________________________________________________\n",
      "batch_normalization_2 (Batch (None, 256)               1024      \n",
      "_________________________________________________________________\n",
      "hidden_layer3 (Dense)        (None, 128)               32896     \n",
      "_________________________________________________________________\n",
      "batch_normalization_3 (Batch (None, 128)               512       \n",
      "_________________________________________________________________\n",
      "output (Dense)               (None, 10)                1290      \n",
      "=================================================================\n",
      "Total params: 1,742,474\n",
      "Trainable params: 1,740,682\n",
      "Non-trainable params: 1,792\n",
      "_________________________________________________________________\n"
     ]
    },
    {
     "name": "stderr",
     "output_type": "stream",
     "text": [
      "W0727 10:26:38.914920 11228 deprecation.py:323] From C:\\ProgramData\\Anaconda3\\envs\\TensorFlow\\lib\\site-packages\\tensorflow\\python\\ops\\math_grad.py:1250: add_dispatch_support.<locals>.wrapper (from tensorflow.python.ops.array_ops) is deprecated and will be removed in a future version.\n",
      "Instructions for updating:\n",
      "Use tf.where in 2.0, which has the same broadcast rule as np.where\n"
     ]
    },
    {
     "name": "stdout",
     "output_type": "stream",
     "text": [
      "Train on 50000 samples, validate on 10000 samples\n",
      "Epoch 1/50\n",
      "50000/50000 [==============================] - 12s 247us/step - loss: 2.2119 - acc: 0.2688 - val_loss: 2.2240 - val_acc: 0.3103\n",
      "Epoch 2/50\n",
      "50000/50000 [==============================] - 3s 69us/step - loss: 1.7407 - acc: 0.3940 - val_loss: 1.8071 - val_acc: 0.3837\n",
      "Epoch 3/50\n",
      "50000/50000 [==============================] - 4s 72us/step - loss: 1.6099 - acc: 0.4376 - val_loss: 1.7108 - val_acc: 0.4172\n",
      "Epoch 4/50\n",
      "50000/50000 [==============================] - 4s 75us/step - loss: 1.5378 - acc: 0.4623 - val_loss: 1.6257 - val_acc: 0.4391\n",
      "Epoch 5/50\n",
      "50000/50000 [==============================] - 4s 75us/step - loss: 1.4821 - acc: 0.4816 - val_loss: 1.5941 - val_acc: 0.4470\n",
      "Epoch 6/50\n",
      "50000/50000 [==============================] - 4s 76us/step - loss: 1.4386 - acc: 0.4959 - val_loss: 1.5652 - val_acc: 0.4557\n",
      "Epoch 7/50\n",
      "50000/50000 [==============================] - 4s 75us/step - loss: 1.3994 - acc: 0.5114 - val_loss: 1.5502 - val_acc: 0.4588\n",
      "Epoch 8/50\n",
      "50000/50000 [==============================] - 4s 74us/step - loss: 1.3632 - acc: 0.5238 - val_loss: 1.5178 - val_acc: 0.4693\n",
      "Epoch 9/50\n",
      "50000/50000 [==============================] - 4s 71us/step - loss: 1.3335 - acc: 0.5339 - val_loss: 1.5221 - val_acc: 0.4701\n",
      "Epoch 10/50\n",
      "50000/50000 [==============================] - 3s 68us/step - loss: 1.3042 - acc: 0.5451 - val_loss: 1.4945 - val_acc: 0.4781\n",
      "Epoch 11/50\n",
      "50000/50000 [==============================] - 3s 67us/step - loss: 1.2761 - acc: 0.5553 - val_loss: 1.5001 - val_acc: 0.4763\n",
      "Epoch 12/50\n",
      "50000/50000 [==============================] - 3s 68us/step - loss: 1.2505 - acc: 0.5631 - val_loss: 1.4842 - val_acc: 0.4811\n",
      "Epoch 13/50\n",
      "50000/50000 [==============================] - 3s 69us/step - loss: 1.2238 - acc: 0.5737 - val_loss: 1.4790 - val_acc: 0.4860\n",
      "Epoch 14/50\n",
      "50000/50000 [==============================] - 3s 69us/step - loss: 1.2016 - acc: 0.5837 - val_loss: 1.4692 - val_acc: 0.4867\n",
      "Epoch 15/50\n",
      "50000/50000 [==============================] - 3s 69us/step - loss: 1.1775 - acc: 0.5936 - val_loss: 1.4785 - val_acc: 0.4808\n",
      "Epoch 16/50\n",
      "50000/50000 [==============================] - 3s 69us/step - loss: 1.1533 - acc: 0.6016 - val_loss: 1.4744 - val_acc: 0.4818\n",
      "Epoch 17/50\n",
      "50000/50000 [==============================] - 3s 69us/step - loss: 1.1311 - acc: 0.6080 - val_loss: 1.4524 - val_acc: 0.4940\n",
      "Epoch 18/50\n",
      "50000/50000 [==============================] - 3s 69us/step - loss: 1.1099 - acc: 0.6172 - val_loss: 1.4505 - val_acc: 0.4967\n",
      "Epoch 19/50\n",
      "50000/50000 [==============================] - 4s 70us/step - loss: 1.0871 - acc: 0.6256 - val_loss: 1.4520 - val_acc: 0.4937\n",
      "Epoch 20/50\n",
      "50000/50000 [==============================] - 3s 69us/step - loss: 1.0653 - acc: 0.6347 - val_loss: 1.4586 - val_acc: 0.4950\n",
      "Epoch 21/50\n",
      "50000/50000 [==============================] - 3s 69us/step - loss: 1.0442 - acc: 0.6433 - val_loss: 1.4562 - val_acc: 0.4963\n",
      "Epoch 22/50\n",
      "50000/50000 [==============================] - 3s 69us/step - loss: 1.0234 - acc: 0.6500 - val_loss: 1.4531 - val_acc: 0.4946\n",
      "Epoch 23/50\n",
      "50000/50000 [==============================] - 3s 69us/step - loss: 1.0025 - acc: 0.6590 - val_loss: 1.4620 - val_acc: 0.4939\n",
      "Epoch 24/50\n",
      "50000/50000 [==============================] - 3s 68us/step - loss: 0.9810 - acc: 0.6669 - val_loss: 1.4590 - val_acc: 0.4936\n",
      "Epoch 25/50\n",
      "50000/50000 [==============================] - 3s 68us/step - loss: 0.9621 - acc: 0.6750 - val_loss: 1.4603 - val_acc: 0.4975\n",
      "Epoch 26/50\n",
      "50000/50000 [==============================] - 3s 70us/step - loss: 0.9417 - acc: 0.6830 - val_loss: 1.4791 - val_acc: 0.4974\n",
      "Epoch 27/50\n",
      "50000/50000 [==============================] - 3s 68us/step - loss: 0.9219 - acc: 0.6923 - val_loss: 1.4694 - val_acc: 0.4966\n",
      "Epoch 28/50\n",
      "50000/50000 [==============================] - 3s 67us/step - loss: 0.9019 - acc: 0.6987 - val_loss: 1.4888 - val_acc: 0.4922\n",
      "Epoch 29/50\n",
      "50000/50000 [==============================] - 3s 68us/step - loss: 0.8836 - acc: 0.7068 - val_loss: 1.4896 - val_acc: 0.4931\n",
      "Epoch 30/50\n",
      "50000/50000 [==============================] - 3s 67us/step - loss: 0.8614 - acc: 0.7164 - val_loss: 1.4754 - val_acc: 0.4979\n",
      "Epoch 31/50\n",
      "50000/50000 [==============================] - 3s 68us/step - loss: 0.8414 - acc: 0.7227 - val_loss: 1.4887 - val_acc: 0.4951\n",
      "Epoch 32/50\n",
      "50000/50000 [==============================] - 3s 67us/step - loss: 0.8235 - acc: 0.7310 - val_loss: 1.4811 - val_acc: 0.5027\n",
      "Epoch 33/50\n",
      "50000/50000 [==============================] - 3s 68us/step - loss: 0.8038 - acc: 0.7396 - val_loss: 1.5215 - val_acc: 0.4933\n",
      "Epoch 34/50\n",
      "50000/50000 [==============================] - 3s 68us/step - loss: 0.7846 - acc: 0.7460 - val_loss: 1.5051 - val_acc: 0.4980\n",
      "Epoch 35/50\n",
      "50000/50000 [==============================] - 3s 68us/step - loss: 0.7650 - acc: 0.7546 - val_loss: 1.5275 - val_acc: 0.4960\n",
      "Epoch 36/50\n",
      "50000/50000 [==============================] - 3s 67us/step - loss: 0.7474 - acc: 0.7602 - val_loss: 1.5306 - val_acc: 0.4979\n",
      "Epoch 37/50\n",
      "50000/50000 [==============================] - 3s 67us/step - loss: 0.7271 - acc: 0.7688 - val_loss: 1.5357 - val_acc: 0.5014\n",
      "Epoch 38/50\n",
      "50000/50000 [==============================] - 3s 70us/step - loss: 0.7097 - acc: 0.7768 - val_loss: 1.5428 - val_acc: 0.4984\n",
      "Epoch 39/50\n",
      "50000/50000 [==============================] - 4s 76us/step - loss: 0.6895 - acc: 0.7838 - val_loss: 1.5507 - val_acc: 0.4935\n",
      "Epoch 40/50\n",
      "50000/50000 [==============================] - 4s 75us/step - loss: 0.6731 - acc: 0.7919 - val_loss: 1.5623 - val_acc: 0.4939\n",
      "Epoch 41/50\n",
      "50000/50000 [==============================] - 4s 72us/step - loss: 0.6555 - acc: 0.7972 - val_loss: 1.5856 - val_acc: 0.4935\n",
      "Epoch 42/50\n",
      "50000/50000 [==============================] - 4s 71us/step - loss: 0.6366 - acc: 0.8050 - val_loss: 1.5722 - val_acc: 0.5006\n",
      "Epoch 43/50\n",
      "50000/50000 [==============================] - 3s 67us/step - loss: 0.6186 - acc: 0.8114 - val_loss: 1.5830 - val_acc: 0.4939\n",
      "Epoch 44/50\n",
      "50000/50000 [==============================] - 3s 68us/step - loss: 0.6011 - acc: 0.8198 - val_loss: 1.5870 - val_acc: 0.4925\n",
      "Epoch 45/50\n",
      "50000/50000 [==============================] - 3s 67us/step - loss: 0.5827 - acc: 0.8278 - val_loss: 1.5979 - val_acc: 0.4934\n",
      "Epoch 46/50\n",
      "50000/50000 [==============================] - 3s 67us/step - loss: 0.5681 - acc: 0.8325 - val_loss: 1.6207 - val_acc: 0.4907\n",
      "Epoch 47/50\n",
      "50000/50000 [==============================] - 3s 67us/step - loss: 0.5522 - acc: 0.8378 - val_loss: 1.6375 - val_acc: 0.4898\n",
      "Epoch 48/50\n",
      "50000/50000 [==============================] - 3s 69us/step - loss: 0.5349 - acc: 0.8453 - val_loss: 1.6513 - val_acc: 0.4933\n",
      "Epoch 49/50\n",
      "50000/50000 [==============================] - 3s 68us/step - loss: 0.5176 - acc: 0.8523 - val_loss: 1.6677 - val_acc: 0.4930\n",
      "Epoch 50/50\n",
      "50000/50000 [==============================] - 3s 67us/step - loss: 0.4997 - acc: 0.8604 - val_loss: 1.6692 - val_acc: 0.4927\n"
     ]
    }
   ],
   "source": [
    "model = build_mlp(input_shape=x_train.shape[1:])\n",
    "model.summary()\n",
    "optimizer = keras.optimizers.SGD(lr=LEARNING_RATE, nesterov=True, momentum=MOMENTUM)\n",
    "model.compile(loss='categorical_crossentropy', metrics=['accuracy'], optimizer=optimizer)\n",
    "\n",
    "model.fit(x_train, y_train,\n",
    "          epochs = EPOCHS,\n",
    "         batch_size=BATCH_SIZE,\n",
    "         validation_data=(x_test, y_test),\n",
    "         shuffle=True)\n",
    "\n",
    "# Collect results\n",
    "train_loss = model.history.history['loss']\n",
    "valid_loss = model.history.history['val_loss']\n",
    "train_acc = model.history.history['acc']\n",
    "valid_acc = model.history.history['val_acc']"
   ]
  },
  {
   "cell_type": "code",
   "execution_count": 9,
   "metadata": {
    "ExecuteTime": {
     "end_time": "2019-07-27T02:29:44.811716Z",
     "start_time": "2019-07-27T02:29:42.674399Z"
    }
   },
   "outputs": [
    {
     "data": {
      "image/png": "[encoded data removed]",
      "text/plain": [
       "<Figure size 432x288 with 1 Axes>"
      ]
     },
     "metadata": {
      "needs_background": "light"
     },
     "output_type": "display_data"
    },
    {
     "data": {
      "image/png": "[encoded data removed]",
      "text/plain": [
       "<Figure size 432x288 with 1 Axes>"
      ]
     },
     "metadata": {
      "needs_background": "light"
     },
     "output_type": "display_data"
    }
   ],
   "source": [
    "import matplotlib.pyplot as plt\n",
    "%matplotlib inline\n",
    "\n",
    "plt.plot(range(len(train_loss)), train_loss, label=\"train loss\")\n",
    "plt.plot(range(len(valid_loss)), valid_loss, label=\"valid loss\")\n",
    "plt.legend()\n",
    "plt.title(\"Loss\")\n",
    "plt.show()\n",
    "\n",
    "plt.plot(range(len(train_acc)), train_acc, label=\"train accuracy\")\n",
    "plt.plot(range(len(valid_acc)), valid_acc, label=\"valid accuracy\")\n",
    "plt.legend()\n",
    "plt.title(\"Accuracy\")\n",
    "plt.show()"
   ]
  },
  {
   "cell_type": "markdown",
   "metadata": {},
   "source": [
    "# Work\n",
    "1. 試比較有 BN 在 Batch_size = 2, 16, 32, 128, 256 下的差異\n",
    "2. 請嘗試將 BN 放在 Activation 之前，並比較訓練結果\n",
    "3. 請於 BN 放在 Input Layer 後，並比較結果"
   ]
  },
  {
   "cell_type": "markdown",
   "metadata": {},
   "source": [
    "## Batch_size\n",
    "Batch_size = 2, 16, 32, 128, 256"
   ]
  },
  {
   "cell_type": "code",
   "execution_count": 5,
   "metadata": {
    "ExecuteTime": {
     "end_time": "2019-07-27T02:49:08.983546Z",
     "start_time": "2019-07-27T02:49:08.972136Z"
    }
   },
   "outputs": [],
   "source": [
    "def build_mlp(input_shape, output_units=10, num_neurons=[512, 256, 128]):\n",
    "    input_layer = keras.layers.Input(input_shape)\n",
    "    \n",
    "    for i, n_units in enumerate(num_neurons):\n",
    "        if i == 0:\n",
    "            x = keras.layers.Dense(units=n_units,\n",
    "                                  activation='relu',\n",
    "                                  name='hidden_layer'+str(i+1))(input_layer)\n",
    "        \n",
    "        else:\n",
    "            x = keras.layers.Dense(units=n_units,\n",
    "                                  activation='relu',\n",
    "                                  name='hidden_layer'+str(i+1))(x)\n",
    "        # 在每層後加入BN層\n",
    "        x = BatchNormalization()(x)\n",
    "    out = keras.layers.Dense(units=output_units, activation='softmax', name='output')(x)\n",
    "    model = keras.models.Model(inputs=[input_layer], outputs=[out])\n",
    "    return model"
   ]
  },
  {
   "cell_type": "code",
   "execution_count": 6,
   "metadata": {
    "ExecuteTime": {
     "end_time": "2019-07-27T02:49:09.890653Z",
     "start_time": "2019-07-27T02:49:09.886189Z"
    }
   },
   "outputs": [],
   "source": [
    "## 超參數設定\n",
    "LEARNING_RATE = 1e-3\n",
    "EPOCHS = 50\n",
    "BATCH_SIZE = [2, 16, 32, 128, 256]\n",
    "MOMENTUM = 0.95"
   ]
  },
  {
   "cell_type": "code",
   "execution_count": null,
   "metadata": {
    "ExecuteTime": {
     "start_time": "2019-07-27T02:49:10.834Z"
    },
    "scrolled": false
   },
   "outputs": [
    {
     "name": "stderr",
     "output_type": "stream",
     "text": [
      "WARNING: Logging before flag parsing goes to stderr.\n",
      "W0727 10:49:10.847439 13612 deprecation_wrapper.py:119] From C:\\ProgramData\\Anaconda3\\envs\\TensorFlow\\lib\\site-packages\\keras\\backend\\tensorflow_backend.py:95: The name tf.reset_default_graph is deprecated. Please use tf.compat.v1.reset_default_graph instead.\n",
      "\n",
      "W0727 10:49:10.848929 13612 deprecation_wrapper.py:119] From C:\\ProgramData\\Anaconda3\\envs\\TensorFlow\\lib\\site-packages\\keras\\backend\\tensorflow_backend.py:98: The name tf.placeholder_with_default is deprecated. Please use tf.compat.v1.placeholder_with_default instead.\n",
      "\n",
      "W0727 10:49:10.877695 13612 deprecation_wrapper.py:119] From C:\\ProgramData\\Anaconda3\\envs\\TensorFlow\\lib\\site-packages\\keras\\backend\\tensorflow_backend.py:102: The name tf.get_default_graph is deprecated. Please use tf.compat.v1.get_default_graph instead.\n",
      "\n",
      "W0727 10:49:10.878690 13612 deprecation_wrapper.py:119] From C:\\ProgramData\\Anaconda3\\envs\\TensorFlow\\lib\\site-packages\\keras\\backend\\tensorflow_backend.py:517: The name tf.placeholder is deprecated. Please use tf.compat.v1.placeholder instead.\n",
      "\n",
      "W0727 10:49:10.881664 13612 deprecation_wrapper.py:119] From C:\\ProgramData\\Anaconda3\\envs\\TensorFlow\\lib\\site-packages\\keras\\backend\\tensorflow_backend.py:4138: The name tf.random_uniform is deprecated. Please use tf.random.uniform instead.\n",
      "\n"
     ]
    },
    {
     "name": "stdout",
     "output_type": "stream",
     "text": [
      "Experiment with BATCH_SIZE： 2\n"
     ]
    },
    {
     "name": "stderr",
     "output_type": "stream",
     "text": [
      "W0727 10:49:11.216958 13612 deprecation_wrapper.py:119] From C:\\ProgramData\\Anaconda3\\envs\\TensorFlow\\lib\\site-packages\\keras\\optimizers.py:790: The name tf.train.Optimizer is deprecated. Please use tf.compat.v1.train.Optimizer instead.\n",
      "\n",
      "W0727 10:49:11.315930 13612 deprecation.py:323] From C:\\ProgramData\\Anaconda3\\envs\\TensorFlow\\lib\\site-packages\\tensorflow\\python\\ops\\math_grad.py:1250: add_dispatch_support.<locals>.wrapper (from tensorflow.python.ops.array_ops) is deprecated and will be removed in a future version.\n",
      "Instructions for updating:\n",
      "Use tf.where in 2.0, which has the same broadcast rule as np.where\n"
     ]
    },
    {
     "name": "stdout",
     "output_type": "stream",
     "text": [
      "_________________________________________________________________\n",
      "Layer (type)                 Output Shape              Param #   \n",
      "=================================================================\n",
      "input_1 (InputLayer)         (None, 3072)              0         \n",
      "_________________________________________________________________\n",
      "hidden_layer1 (Dense)        (None, 512)               1573376   \n",
      "_________________________________________________________________\n",
      "batch_normalization_1 (Batch (None, 512)               2048      \n",
      "_________________________________________________________________\n",
      "hidden_layer2 (Dense)        (None, 256)               131328    \n",
      "_________________________________________________________________\n",
      "batch_normalization_2 (Batch (None, 256)               1024      \n",
      "_________________________________________________________________\n",
      "hidden_layer3 (Dense)        (None, 128)               32896     \n",
      "_________________________________________________________________\n",
      "batch_normalization_3 (Batch (None, 128)               512       \n",
      "_________________________________________________________________\n",
      "output (Dense)               (None, 10)                1290      \n",
      "=================================================================\n",
      "Total params: 1,742,474\n",
      "Trainable params: 1,740,682\n",
      "Non-trainable params: 1,792\n",
      "_________________________________________________________________\n",
      "Train on 50000 samples, validate on 10000 samples\n",
      "Epoch 1/50\n",
      "50000/50000 [==============================] - 383s 8ms/step - loss: 2.3038 - acc: 0.1497 - val_loss: 2.2015 - val_acc: 0.2058\n",
      "Epoch 2/50\n",
      "50000/50000 [==============================] - 391s 8ms/step - loss: 2.2430 - acc: 0.1600 - val_loss: 2.1973 - val_acc: 0.1939\n",
      "Epoch 3/50\n",
      "50000/50000 [==============================] - 420s 8ms/step - loss: 2.2337 - acc: 0.1643 - val_loss: 2.2327 - val_acc: 0.1926\n",
      "Epoch 4/50\n",
      "50000/50000 [==============================] - 420s 8ms/step - loss: 2.2326 - acc: 0.1652 - val_loss: 2.3045 - val_acc: 0.1837\n",
      "Epoch 5/50\n",
      "50000/50000 [==============================] - 432s 9ms/step - loss: 2.2434 - acc: 0.1572 - val_loss: 2.9607 - val_acc: 0.1627\n",
      "Epoch 6/50\n",
      "50000/50000 [==============================] - 386s 8ms/step - loss: 2.2325 - acc: 0.1676 - val_loss: 2.9324 - val_acc: 0.1736\n",
      "Epoch 7/50\n",
      "50000/50000 [==============================] - 404s 8ms/step - loss: 2.2332 - acc: 0.1622 - val_loss: 3.2214 - val_acc: 0.1776\n",
      "Epoch 8/50\n",
      "50000/50000 [==============================] - 351s 7ms/step - loss: 2.2379 - acc: 0.1638 - val_loss: 3.2604 - val_acc: 0.1751\n",
      "Epoch 9/50\n",
      "50000/50000 [==============================] - 380s 8ms/step - loss: 2.2354 - acc: 0.1686 - val_loss: 2.7823 - val_acc: 0.2032\n",
      "Epoch 10/50\n",
      "50000/50000 [==============================] - 396s 8ms/step - loss: 2.2353 - acc: 0.1667 - val_loss: 3.0001 - val_acc: 0.2116\n",
      "Epoch 11/50\n",
      "50000/50000 [==============================] - 390s 8ms/step - loss: 2.2317 - acc: 0.1702 - val_loss: 2.9512 - val_acc: 0.2140\n",
      "Epoch 12/50\n",
      "48360/50000 [============================>.] - ETA: 12s - loss: 2.2354 - acc: 0.1682"
     ]
    }
   ],
   "source": [
    "results = {}\n",
    "for BS in BATCH_SIZE:\n",
    "    keras.backend.clear_session()\n",
    "    print('Experiment with BATCH_SIZE： ' + str(BS))\n",
    "    model = build_mlp(input_shape=x_train.shape[1:])\n",
    "    model.summary()\n",
    "    optimizer = keras.optimizers.SGD(lr=LEARNING_RATE, nesterov=True, momentum=MOMENTUM)\n",
    "    model.compile(loss='categorical_crossentropy', metrics=['accuracy'], optimizer=optimizer)\n",
    "    \n",
    "    model.fit(x_train, y_train,\n",
    "              epochs = EPOCHS,\n",
    "              batch_size=BS,\n",
    "              validation_data=(x_test, y_test),\n",
    "              shuffle=True)\n",
    "    \n",
    "    # Collect results\n",
    "    train_loss = model.history.history['loss']\n",
    "    valid_loss = model.history.history['val_loss']\n",
    "    train_acc = model.history.history['acc']\n",
    "    valid_acc = model.history.history['val_acc']\n",
    "    \n",
    "    exp_name_tag = 'BATCH_SIZE_' + str(BS)\n",
    "    results[exp_name_tag] = {'train-loss': train_loss,\n",
    "                             'valid-loss': valid_loss,\n",
    "                             'train-acc': train_acc,\n",
    "                             'valid-acc': valid_acc}"
   ]
  },
  {
   "cell_type": "code",
   "execution_count": null,
   "metadata": {},
   "outputs": [],
   "source": [
    "import matplotlib.pyplot as plt\n",
    "%matplotlib inline\n",
    "\"\"\"Code Here\n",
    "將結果繪出\n",
    "\"\"\""
   ]
  }
 ],
 "metadata": {
  "kernelspec": {
   "display_name": "Python 3",
   "language": "python",
   "name": "python3"
  },
  "toc": {
   "base_numbering": 1,
   "nav_menu": {},
   "number_sections": true,
   "sideBar": true,
   "skip_h1_title": false,
   "title_cell": "Table of Contents",
   "title_sidebar": "Contents",
   "toc_cell": false,
   "toc_position": {},
   "toc_section_display": true,
   "toc_window_display": false
  },
  "varInspector": {
   "cols": {
    "lenName": 16,
    "lenType": 16,
    "lenVar": 40
   },
   "kernels_config": {
    "python": {
     "delete_cmd_postfix": "",
     "delete_cmd_prefix": "del ",
     "library": "var_list.py",
     "varRefreshCmd": "print(var_dic_list())"
    },
    "r": {
     "delete_cmd_postfix": ") ",
     "delete_cmd_prefix": "rm(",
     "library": "var_list.r",
     "varRefreshCmd": "cat(var_dic_list()) "
    }
   },
   "types_to_exclude": [
    "module",
    "function",
    "builtin_function_or_method",
    "instance",
    "_Feature"
   ],
   "window_display": false
  }
 },
 "nbformat": 4,
 "nbformat_minor": 2
}
